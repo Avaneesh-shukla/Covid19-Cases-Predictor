{
 "cells": [
  {
   "cell_type": "markdown",
   "metadata": {},
   "source": [
    "# COVID19 PredictoR"
   ]
  },
  {
   "cell_type": "markdown",
   "metadata": {},
   "source": [
    "### In this project given by The Tech cubes I will be using Ploynomial regression to Predict the covid19 total cases for a week"
   ]
  },
  {
   "cell_type": "markdown",
   "metadata": {},
   "source": [
    "Importing Necessary Libraries"
   ]
  },
  {
   "cell_type": "code",
   "execution_count": 1,
   "metadata": {},
   "outputs": [],
   "source": [
    "import pandas as pd\n",
    "import numpy as np\n",
    "import matplotlib.pyplot as plt\n",
    "\n",
    "from sklearn.preprocessing import PolynomialFeatures\n",
    "from sklearn.linear_model import LinearRegression"
   ]
  },
  {
   "cell_type": "markdown",
   "metadata": {},
   "source": [
    "Importing the Dataset"
   ]
  },
  {
   "cell_type": "code",
   "execution_count": 2,
   "metadata": {},
   "outputs": [
    {
     "data": {
      "text/html": [
       "<div>\n",
       "<style scoped>\n",
       "    .dataframe tbody tr th:only-of-type {\n",
       "        vertical-align: middle;\n",
       "    }\n",
       "\n",
       "    .dataframe tbody tr th {\n",
       "        vertical-align: top;\n",
       "    }\n",
       "\n",
       "    .dataframe thead th {\n",
       "        text-align: right;\n",
       "    }\n",
       "</style>\n",
       "<table border=\"1\" class=\"dataframe\">\n",
       "  <thead>\n",
       "    <tr style=\"text-align: right;\">\n",
       "      <th></th>\n",
       "      <th>Date</th>\n",
       "      <th>Confirmed</th>\n",
       "    </tr>\n",
       "  </thead>\n",
       "  <tbody>\n",
       "    <tr>\n",
       "      <th>1991</th>\n",
       "      <td>16/05/2020</td>\n",
       "      <td>672</td>\n",
       "    </tr>\n",
       "    <tr>\n",
       "      <th>1992</th>\n",
       "      <td>16/05/2020</td>\n",
       "      <td>13</td>\n",
       "    </tr>\n",
       "    <tr>\n",
       "      <th>1993</th>\n",
       "      <td>16/05/2020</td>\n",
       "      <td>1935</td>\n",
       "    </tr>\n",
       "    <tr>\n",
       "      <th>1994</th>\n",
       "      <td>16/05/2020</td>\n",
       "      <td>4727</td>\n",
       "    </tr>\n",
       "    <tr>\n",
       "      <th>1995</th>\n",
       "      <td>16/05/2020</td>\n",
       "      <td>10108</td>\n",
       "    </tr>\n",
       "    <tr>\n",
       "      <th>1996</th>\n",
       "      <td>16/05/2020</td>\n",
       "      <td>1454</td>\n",
       "    </tr>\n",
       "    <tr>\n",
       "      <th>1997</th>\n",
       "      <td>16/05/2020</td>\n",
       "      <td>156</td>\n",
       "    </tr>\n",
       "    <tr>\n",
       "      <th>1998</th>\n",
       "      <td>16/05/2020</td>\n",
       "      <td>82</td>\n",
       "    </tr>\n",
       "    <tr>\n",
       "      <th>1999</th>\n",
       "      <td>16/05/2020</td>\n",
       "      <td>4057</td>\n",
       "    </tr>\n",
       "    <tr>\n",
       "      <th>2000</th>\n",
       "      <td>16/05/2020</td>\n",
       "      <td>2461</td>\n",
       "    </tr>\n",
       "  </tbody>\n",
       "</table>\n",
       "</div>"
      ],
      "text/plain": [
       "            Date  Confirmed\n",
       "1991  16/05/2020        672\n",
       "1992  16/05/2020         13\n",
       "1993  16/05/2020       1935\n",
       "1994  16/05/2020       4727\n",
       "1995  16/05/2020      10108\n",
       "1996  16/05/2020       1454\n",
       "1997  16/05/2020        156\n",
       "1998  16/05/2020         82\n",
       "1999  16/05/2020       4057\n",
       "2000  16/05/2020       2461"
      ]
     },
     "execution_count": 2,
     "metadata": {},
     "output_type": "execute_result"
    }
   ],
   "source": [
    "df=pd.read_csv(\"csv.csv\")\n",
    "df = df[[\"Date\",\"Confirmed\"]]\n",
    "\n",
    "df.tail(10)"
   ]
  },
  {
   "cell_type": "markdown",
   "metadata": {},
   "source": [
    "Dataset contain duplicates,also the per day data has to be aggregated from the given dataset,so let us do the preprocessing"
   ]
  },
  {
   "cell_type": "code",
   "execution_count": 3,
   "metadata": {},
   "outputs": [],
   "source": [
    "def preprocess(dataset):\n",
    "    new_dataset = dataset.copy()\n",
    "    new_dataset.drop_duplicates(subset=\"Date\", keep=\"first\", inplace=True)\n",
    "    for i in range(0,len(new_dataset)):\n",
    "        new_dataset.iloc[i,1] = int(dataset.loc[dataset[\"Date\"] == new_dataset.iloc[i,0] , [\"Confirmed\"]].sum(axis = 0, skipna = True))\n",
    "    new_dataset[\"Date\"] = pd.to_datetime(new_dataset[\"Date\"], dayfirst=True)\n",
    "    return new_dataset"
   ]
  },
  {
   "cell_type": "code",
   "execution_count": 4,
   "metadata": {},
   "outputs": [
    {
     "data": {
      "text/html": [
       "<div>\n",
       "<style scoped>\n",
       "    .dataframe tbody tr th:only-of-type {\n",
       "        vertical-align: middle;\n",
       "    }\n",
       "\n",
       "    .dataframe tbody tr th {\n",
       "        vertical-align: top;\n",
       "    }\n",
       "\n",
       "    .dataframe thead th {\n",
       "        text-align: right;\n",
       "    }\n",
       "</style>\n",
       "<table border=\"1\" class=\"dataframe\">\n",
       "  <thead>\n",
       "    <tr style=\"text-align: right;\">\n",
       "      <th></th>\n",
       "      <th>Date</th>\n",
       "      <th>Confirmed</th>\n",
       "    </tr>\n",
       "  </thead>\n",
       "  <tbody>\n",
       "    <tr>\n",
       "      <th>1836</th>\n",
       "      <td>2020-05-12</td>\n",
       "      <td>70756</td>\n",
       "    </tr>\n",
       "    <tr>\n",
       "      <th>1869</th>\n",
       "      <td>2020-05-13</td>\n",
       "      <td>74281</td>\n",
       "    </tr>\n",
       "    <tr>\n",
       "      <th>1902</th>\n",
       "      <td>2020-05-14</td>\n",
       "      <td>78003</td>\n",
       "    </tr>\n",
       "    <tr>\n",
       "      <th>1935</th>\n",
       "      <td>2020-05-15</td>\n",
       "      <td>81970</td>\n",
       "    </tr>\n",
       "    <tr>\n",
       "      <th>1968</th>\n",
       "      <td>2020-05-16</td>\n",
       "      <td>85710</td>\n",
       "    </tr>\n",
       "  </tbody>\n",
       "</table>\n",
       "</div>"
      ],
      "text/plain": [
       "           Date  Confirmed\n",
       "1836 2020-05-12      70756\n",
       "1869 2020-05-13      74281\n",
       "1902 2020-05-14      78003\n",
       "1935 2020-05-15      81970\n",
       "1968 2020-05-16      85710"
      ]
     },
     "execution_count": 4,
     "metadata": {},
     "output_type": "execute_result"
    }
   ],
   "source": [
    "df1=preprocess(df)\n",
    "df1.reset_index(drop = True)\n",
    "\n",
    "df1.tail()"
   ]
  },
  {
   "cell_type": "code",
   "execution_count": 5,
   "metadata": {},
   "outputs": [
    {
     "data": {
      "text/plain": [
       "[<matplotlib.lines.Line2D at 0x2f237be5f8>]"
      ]
     },
     "execution_count": 5,
     "metadata": {},
     "output_type": "execute_result"
    },
    {
     "data": {
      "image/png": "[encoded data removed]",
      "text/plain": [
       "<Figure size 432x288 with 1 Axes>"
      ]
     },
     "metadata": {},
     "output_type": "display_data"
    }
   ],
   "source": [
    "x=pd.DataFrame([i for i in range(len(df1))])\n",
    "\n",
    "y=df1.iloc[:,-1].values\n",
    "\n",
    "plt.plot(x,y)\n"
   ]
  },
  {
   "cell_type": "code",
   "execution_count": 6,
   "metadata": {},
   "outputs": [],
   "source": [
    "pr=PolynomialFeatures(degree=4)\n",
    "x_poly=pr.fit_transform(x)"
   ]
  },
  {
   "cell_type": "code",
   "execution_count": 7,
   "metadata": {},
   "outputs": [
    {
     "name": "stdout",
     "output_type": "stream",
     "text": [
      "[-71.65139448]\n",
      "0.9995249181068719\n"
     ]
    }
   ],
   "source": [
    "lr2=LinearRegression()\n",
    "lr2.fit(x_poly,y)\n",
    "print(lr2.predict(pr.fit_transform([[6.5]])))\n",
    "print(lr2.score(x_poly, y))"
   ]
  },
  {
   "cell_type": "code",
   "execution_count": 8,
   "metadata": {},
   "outputs": [
    {
     "data": {
      "image/png": "[encoded data removed]",
      "text/plain": [
       "<Figure size 1368x648 with 1 Axes>"
      ]
     },
     "metadata": {},
     "output_type": "display_data"
    }
   ],
   "source": [
    "plt.figure(figsize=(19,9))\n",
    "plt.scatter(x,y,label=\"Actual\",color='y')\n",
    "plt.plot(lr2.predict(x_poly),color='k',label=\"Predicted\")\n",
    "plt.title(\"Covid19 Trend\")\n",
    "plt.xlabel(\"Date Axis\")\n",
    "plt.ylabel(\"Covid19 Cases\")\n",
    "plt.legend()\n",
    "plt.show()"
   ]
  },
  {
   "cell_type": "markdown",
   "metadata": {},
   "source": [
    "### Weekly Forecasting "
   ]
  },
  {
   "cell_type": "code",
   "execution_count": 9,
   "metadata": {},
   "outputs": [
    {
     "name": "stdout",
     "output_type": "stream",
     "text": [
      "Actual\n",
      "\n",
      "30 April -->  [56342]\n",
      "1 May -->  [59662]\n",
      "2 May -->  [62939]\n",
      "3 May -->  [67152]\n",
      "4 May -->  [70756]\n",
      "5 May -->  [74281]\n",
      "6 May -->  [78003]\n",
      "7 May -->  [81970]\n",
      "8 May -->  [85710]\n",
      "\n",
      "Predicted\n",
      "\n",
      "30 April -->  55974\n",
      "1 May -->  59245\n",
      "2 May -->  62656\n",
      "3 May -->  66208\n",
      "4 May -->  69907\n",
      "5 May -->  73756\n",
      "6 May -->  77760\n",
      "7 May -->  81921\n",
      "8 May -->  86244\n",
      "\n",
      "Forecasted for Week\n",
      "\n",
      "17 May -->  90734\n",
      "18 May -->  95394\n",
      "19 May -->  100228\n",
      "20 May -->  105241\n",
      "21 May -->  110437\n",
      "22 May -->  115821\n",
      "23 May -->  121397\n"
     ]
    }
   ],
   "source": [
    "\n",
    "s=0\n",
    "print(\"Actual\")\n",
    "print(\"\")\n",
    "for i in range((len(df1)-9),len(df1)):\n",
    "    if s==0:\n",
    "        print(f\"{s+30} April --> \",df1.iloc[i:i+1,1].values)\n",
    "    else:    \n",
    "        print(f\"{s} May --> \",df1.iloc[i:i+1,1].values)\n",
    "    s+=1\n",
    "s=0\n",
    "print(\"\")\n",
    "print(\"Predicted\")\n",
    "print(\"\")\n",
    "for i in range((len(df1)-9),len(df1)):\n",
    "    \n",
    "    if s==0:\n",
    "        print(f\"{s+30} April --> \",int(lr2.predict(pr.fit_transform([[i]]))))\n",
    "    else:\n",
    "        print(f\"{s} May --> \",int(lr2.predict(pr.fit_transform([[i]]))))\n",
    "    s+=1\n",
    "\n",
    "s=17\n",
    "print(\"\")\n",
    "print(\"Forecasted for Week\")\n",
    "print(\"\")\n",
    "for i in range((len(df1)),len(df1)+7):\n",
    "    print(f\"{s} May --> \",int(lr2.predict(pr.fit_transform([[i]]))))\n",
    "    s+=1"
   ]
  },
  {
   "cell_type": "code",
   "execution_count": 10,
   "metadata": {},
   "outputs": [],
   "source": [
    "from sklearn.externals import joblib"
   ]
  },
  {
   "cell_type": "code",
   "execution_count": 11,
   "metadata": {},
   "outputs": [
    {
     "data": {
      "text/plain": [
       "['prone.sky']"
      ]
     },
     "execution_count": 11,
     "metadata": {},
     "output_type": "execute_result"
    }
   ],
   "source": [
    "joblib.dump(lr2,'prone.sky')"
   ]
  },
  {
   "cell_type": "code",
   "execution_count": 12,
   "metadata": {},
   "outputs": [],
   "source": [
    "load=joblib.load('prone.sky')"
   ]
  },
  {
   "cell_type": "code",
   "execution_count": 13,
   "metadata": {},
   "outputs": [
    {
     "data": {
      "text/plain": [
       "array([110437.91620283])"
      ]
     },
     "execution_count": 13,
     "metadata": {},
     "output_type": "execute_result"
    }
   ],
   "source": [
    "load.predict(pr.fit_transform([[112]]))"
   ]
  },
  {
   "cell_type": "code",
   "execution_count": null,
   "metadata": {},
   "outputs": [],
   "source": []
  },
  {
   "cell_type": "code",
   "execution_count": null,
   "metadata": {},
   "outputs": [],
   "source": []
  }
 ],
 "metadata": {
  "kernelspec": {
   "display_name": "Python 3",
   "language": "python",
   "name": "python3"
  },
  "language_info": {
   "codemirror_mode": {
    "name": "ipython",
    "version": 3
   },
   "file_extension": ".py",
   "mimetype": "text/x-python",
   "name": "python",
   "nbconvert_exporter": "python",
   "pygments_lexer": "ipython3",
   "version": "3.6.5"
  }
 },
 "nbformat": 4,
 "nbformat_minor": 2
}
